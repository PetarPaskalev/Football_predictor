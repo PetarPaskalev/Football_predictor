{
 "cells": [
  {
   "cell_type": "markdown",
   "metadata": {},
   "source": [
    "# Mastering Decision Trees"
   ]
  },
  {
   "cell_type": "markdown",
   "metadata": {},
   "source": [
    "### 2.3. Hands-on Scikit-learn\n"
   ]
  },
  {
   "cell_type": "markdown",
   "metadata": {},
   "source": [
    "- Data Exploration\n"
   ]
  },
  {
   "cell_type": "code",
   "execution_count": 4,
   "metadata": {},
   "outputs": [
    {
     "data": {
      "text/html": [
       "<div>\n",
       "<style scoped>\n",
       "    .dataframe tbody tr th:only-of-type {\n",
       "        vertical-align: middle;\n",
       "    }\n",
       "\n",
       "    .dataframe tbody tr th {\n",
       "        vertical-align: top;\n",
       "    }\n",
       "\n",
       "    .dataframe thead th {\n",
       "        text-align: right;\n",
       "    }\n",
       "</style>\n",
       "<table border=\"1\" class=\"dataframe\">\n",
       "  <thead>\n",
       "    <tr style=\"text-align: right;\">\n",
       "      <th></th>\n",
       "      <th>drivewheel</th>\n",
       "      <th>fueltype</th>\n",
       "      <th>aspiration</th>\n",
       "      <th>doornumber</th>\n",
       "      <th>carbody</th>\n",
       "    </tr>\n",
       "  </thead>\n",
       "  <tbody>\n",
       "    <tr>\n",
       "      <th>92</th>\n",
       "      <td>fwd</td>\n",
       "      <td>gas</td>\n",
       "      <td>std</td>\n",
       "      <td>four</td>\n",
       "      <td>sedan</td>\n",
       "    </tr>\n",
       "    <tr>\n",
       "      <th>52</th>\n",
       "      <td>fwd</td>\n",
       "      <td>gas</td>\n",
       "      <td>std</td>\n",
       "      <td>two</td>\n",
       "      <td>hatchback</td>\n",
       "    </tr>\n",
       "    <tr>\n",
       "      <th>87</th>\n",
       "      <td>fwd</td>\n",
       "      <td>gas</td>\n",
       "      <td>turbo</td>\n",
       "      <td>four</td>\n",
       "      <td>sedan</td>\n",
       "    </tr>\n",
       "    <tr>\n",
       "      <th>27</th>\n",
       "      <td>fwd</td>\n",
       "      <td>gas</td>\n",
       "      <td>turbo</td>\n",
       "      <td>two</td>\n",
       "      <td>sedan</td>\n",
       "    </tr>\n",
       "    <tr>\n",
       "      <th>101</th>\n",
       "      <td>fwd</td>\n",
       "      <td>gas</td>\n",
       "      <td>std</td>\n",
       "      <td>four</td>\n",
       "      <td>sedan</td>\n",
       "    </tr>\n",
       "    <tr>\n",
       "      <th>113</th>\n",
       "      <td>rwd</td>\n",
       "      <td>gas</td>\n",
       "      <td>std</td>\n",
       "      <td>four</td>\n",
       "      <td>wagon</td>\n",
       "    </tr>\n",
       "    <tr>\n",
       "      <th>29</th>\n",
       "      <td>fwd</td>\n",
       "      <td>gas</td>\n",
       "      <td>turbo</td>\n",
       "      <td>two</td>\n",
       "      <td>hatchback</td>\n",
       "    </tr>\n",
       "    <tr>\n",
       "      <th>120</th>\n",
       "      <td>fwd</td>\n",
       "      <td>gas</td>\n",
       "      <td>std</td>\n",
       "      <td>four</td>\n",
       "      <td>hatchback</td>\n",
       "    </tr>\n",
       "    <tr>\n",
       "      <th>152</th>\n",
       "      <td>fwd</td>\n",
       "      <td>gas</td>\n",
       "      <td>std</td>\n",
       "      <td>four</td>\n",
       "      <td>hatchback</td>\n",
       "    </tr>\n",
       "    <tr>\n",
       "      <th>165</th>\n",
       "      <td>rwd</td>\n",
       "      <td>gas</td>\n",
       "      <td>std</td>\n",
       "      <td>two</td>\n",
       "      <td>sedan</td>\n",
       "    </tr>\n",
       "  </tbody>\n",
       "</table>\n",
       "</div>"
      ],
      "text/plain": [
       "    drivewheel fueltype aspiration doornumber    carbody\n",
       "92         fwd      gas        std       four      sedan\n",
       "52         fwd      gas        std        two  hatchback\n",
       "87         fwd      gas      turbo       four      sedan\n",
       "27         fwd      gas      turbo        two      sedan\n",
       "101        fwd      gas        std       four      sedan\n",
       "113        rwd      gas        std       four      wagon\n",
       "29         fwd      gas      turbo        two  hatchback\n",
       "120        fwd      gas        std       four  hatchback\n",
       "152        fwd      gas        std       four  hatchback\n",
       "165        rwd      gas        std        two      sedan"
      ]
     },
     "execution_count": 4,
     "metadata": {},
     "output_type": "execute_result"
    }
   ],
   "source": [
    "import pandas as pd\n",
    "import numpy as np\n",
    "import random\n",
    "\n",
    "# rename your dataset to car-price.csv\n",
    "df =pd.read_excel(\"car-price.xlsx\")\n",
    "\n",
    "\n",
    "# we will take two variables,\n",
    "# we will use doornumber as our target\n",
    "# and the others as our indpendent variables\n",
    "df = df[['drivewheel','fueltype','aspiration','doornumber','carbody']]\n",
    "\n",
    "df.sample(n=10)"
   ]
  },
  {
   "cell_type": "markdown",
   "metadata": {},
   "source": [
    "- Calculating Gini Index"
   ]
  },
  {
   "cell_type": "code",
   "execution_count": 6,
   "metadata": {},
   "outputs": [
    {
     "name": "stdout",
     "output_type": "stream",
     "text": [
      "Variable drivewheel has Gini Index of 0.4865\n",
      "\n",
      "Variable fueltype has Gini Index of 0.4745\n",
      "\n",
      "Variable aspiration has Gini Index of 0.4921\n",
      "\n",
      "Variable carbody has Gini Index of 0.2137\n",
      "\n",
      "Split on carbody With Gini Index of 0.214\n"
     ]
    }
   ],
   "source": [
    "# function will calculate gini_index for each column\n",
    "# function from scratch\n",
    "# in a dataframe\n",
    "# and print out the best column to split on\n",
    "import pandas as pd\n",
    "import numpy as np\n",
    "\n",
    "def gini_index(dataset, targetcol):\n",
    "    \n",
    "    # store all of our columns and gini scores\n",
    "    gini_scores = []\n",
    "    \n",
    "    # iterate through each column in your dataframe\n",
    "    for col in dataset.columns:\n",
    "        \n",
    "        # skip our target column\n",
    "        # no information gain on target columns!\n",
    "        # we can't split here\n",
    "        if col == targetcol:\n",
    "            continue\n",
    "        \n",
    "        # resets for each column in your dataset\n",
    "        gini = 0\n",
    "        \n",
    "        # get the value counts for that column\n",
    "        unique_values = dataset[col].value_counts()\n",
    "        \n",
    "        # iterate through each unique value for that column\n",
    "        for key, val in unique_values.items():\n",
    "        \n",
    "            # get the target variable separated, based on\n",
    "            # the independent variable\n",
    "            filteredDf = dataset[targetcol][dataset[col] == key].value_counts()\n",
    "            \n",
    "            # need n for the length\n",
    "            n = len(dataset)\n",
    "            \n",
    "            # sum of the value counts for that column\n",
    "            ValueSum = filteredDf.sum()\n",
    "            \n",
    "            # need the probabilities of each class\n",
    "            p = 0\n",
    "            \n",
    "            # we now have to send it to our gini impurity formula\n",
    "            for i, j in filteredDf.items():\n",
    "                p += (filteredDf[i] / ValueSum) ** 2\n",
    "            \n",
    "            # gini total for column \n",
    "            # is all uniques from each column\n",
    "            gini += (val / n) * (1-p)\n",
    "\n",
    "        print(f'Variable {col} has Gini Index of {round(gini,4)}\\n')\n",
    "        \n",
    "        # append our column name and gini score\n",
    "        gini_scores.append((col, gini))\n",
    "    \n",
    "    # sort our gini scores lowest to highest\n",
    "    split_pair = sorted(gini_scores, key=lambda x: -x[1], reverse=True)[0]\n",
    "    \n",
    "    # print out the best score\n",
    "    print(f'''Split on {split_pair[0]} With Gini Index of {round(split_pair[1],3)}''')\n",
    "        \n",
    "        \n",
    "final = gini_index(df, 'doornumber')\n"
   ]
  },
  {
   "cell_type": "markdown",
   "metadata": {},
   "source": [
    "- Calculating Entropy"
   ]
  },
  {
   "cell_type": "code",
   "execution_count": 7,
   "metadata": {},
   "outputs": [
    {
     "name": "stdout",
     "output_type": "stream",
     "text": [
      "Variable drivewheel has Entropy of 0.8186\n",
      "\n",
      "Variable fueltype has Entropy of 0.3197\n",
      "\n",
      "Variable aspiration has Entropy of 0.4721\n",
      "\n",
      "Variable doornumber has Entropy of 0.6857\n",
      "\n",
      "Split on fueltype With Information Gain of 0.68\n"
     ]
    }
   ],
   "source": [
    "import numpy as np\n",
    "import pandas as pd\n",
    "import math\n",
    "\n",
    "def entropy(dataset, targetcol):\n",
    "    # store all of our columns and gini scores\n",
    "    entropy_scores = []\n",
    "    \n",
    "    # iterate through each column in your dataframe\n",
    "    for col in dataset.columns:\n",
    "        \n",
    "        if col == targetcol:\n",
    "            continue\n",
    "        \n",
    "        # get the value_counts normalized, saving us having to iterate through\n",
    "        # each variable\n",
    "        value_counts = dataset[col].value_counts(normalize=True, sort=False)\n",
    "        \n",
    "        # calculate our entropy for the column\n",
    "        entropy = -(value_counts * np.log(value_counts) / np.log(math.e)).sum()\n",
    "        \n",
    "        print(f'Variable {col} has Entropy of {round(entropy,4)}\\n')\n",
    "        \n",
    "        # append our column name and gini score\n",
    "        entropy_scores.append((col,entropy))\n",
    "    \n",
    "    # sort our gini scores lowest to highest\n",
    "    split_pair = sorted(entropy_scores, key=lambda x: -x[1], reverse=True)[0]\n",
    "    \n",
    "    # print out the best score\n",
    "    print(f'''Split on {split_pair[0]} With Information Gain of {round(1-split_pair[1],3)}''')\n",
    "        \n",
    "        \n",
    "\n",
    "final = entropy(df, 'carbody')\n",
    "final"
   ]
  },
  {
   "cell_type": "code",
   "execution_count": 8,
   "metadata": {},
   "outputs": [
    {
     "name": "stdout",
     "output_type": "stream",
     "text": [
      "Duration: 0:00:00\n"
     ]
    }
   ],
   "source": [
    "from datetime import datetime\n",
    "start_time = datetime.now()\n",
    "# do your work here\n",
    "end_time = datetime.now()\n",
    "print('Duration: {}'.format(end_time - start_time))"
   ]
  }
 ],
 "metadata": {
  "kernelspec": {
   "display_name": "block_b",
   "language": "python",
   "name": "python3"
  },
  "language_info": {
   "codemirror_mode": {
    "name": "ipython",
    "version": 3
   },
   "file_extension": ".py",
   "mimetype": "text/x-python",
   "name": "python",
   "nbconvert_exporter": "python",
   "pygments_lexer": "ipython3",
   "version": "3.8.16"
  }
 },
 "nbformat": 4,
 "nbformat_minor": 2
}
