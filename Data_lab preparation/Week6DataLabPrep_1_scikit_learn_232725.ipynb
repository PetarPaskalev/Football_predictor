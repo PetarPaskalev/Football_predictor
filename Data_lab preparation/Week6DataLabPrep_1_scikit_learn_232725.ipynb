{
 "cells": [
  {
   "cell_type": "markdown",
   "metadata": {},
   "source": [
    "# Random Forests and Gradient Boosting models"
   ]
  },
  {
   "cell_type": "code",
   "execution_count": 3,
   "metadata": {},
   "outputs": [],
   "source": [
    "fb = pd.read_excel(\"Wisconsin Breast Cancer Data.xlsx\")"
   ]
  },
  {
   "cell_type": "code",
   "execution_count": 5,
   "metadata": {},
   "outputs": [
    {
     "name": "stdout",
     "output_type": "stream",
     "text": [
      "ACCURACY OF THE MODEL: 0.9766081871345029\n"
     ]
    }
   ],
   "source": [
    "# Assuming you have a DataFrame named 'data_clean' with the appropriate columns\n",
    "# Replace this with your actual data loading logic\n",
    "data_clean = fb\n",
    "\n",
    "# Checking missing values \n",
    "missing_values = data_clean.isnull().sum()\n",
    "\n",
    "# Assuming 'Market value' is the target variable (diagnosis)\n",
    "X = data_clean.drop(['diagnosis'], axis=1)\n",
    "y = data_clean['diagnosis']\n",
    "\n",
    "# Splitting the dataset into training and test sets\n",
    "X_train, X_test, y_train, y_test = train_test_split(X, y, test_size=0.30, random_state=42) \n",
    "\n",
    "# Creating a RandomForestClassifier\n",
    "clf = RandomForestClassifier(n_estimators=100, random_state=42)   \n",
    "\n",
    "# Training the model on the training dataset\n",
    "clf.fit(X_train, y_train)\n",
    "\n",
    "# Performing predictions on the test dataset\n",
    "y_pred = clf.predict(X_test)\n",
    "\n",
    "# Calculating and printing accuracy\n",
    "from sklearn import metrics\n",
    "print(\"ACCURACY OF THE MODEL:\", metrics.accuracy_score(y_test, y_pred))\n"
   ]
  }
 ],
 "metadata": {
  "kernelspec": {
   "display_name": "block_b",
   "language": "python",
   "name": "python3"
  },
  "language_info": {
   "codemirror_mode": {
    "name": "ipython",
    "version": 3
   },
   "file_extension": ".py",
   "mimetype": "text/x-python",
   "name": "python",
   "nbconvert_exporter": "python",
   "pygments_lexer": "ipython3",
   "version": "3.8.16"
  }
 },
 "nbformat": 4,
 "nbformat_minor": 2
}
