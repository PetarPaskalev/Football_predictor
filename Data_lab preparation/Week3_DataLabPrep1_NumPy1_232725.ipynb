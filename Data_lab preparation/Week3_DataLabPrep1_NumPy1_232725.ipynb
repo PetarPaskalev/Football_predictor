{
 "cells": [
  {
   "cell_type": "markdown",
   "metadata": {},
   "source": [
    "# 2.3 Data Lab preparation - Use Case"
   ]
  },
  {
   "cell_type": "markdown",
   "metadata": {},
   "source": [
    "- Write a Python function that multiplies two lists of unequal sizes using loops."
   ]
  },
  {
   "cell_type": "code",
   "execution_count": 1,
   "metadata": {},
   "outputs": [],
   "source": [
    "def multiply_lists_with_loops(list1, list2):\n",
    "    result = []\n",
    "    for i in range(len(list1)):\n",
    "        for j in range(len(list2)):\n",
    "            result.append(list1[i] * list2[j])\n",
    "    return result\n"
   ]
  },
  {
   "cell_type": "markdown",
   "metadata": {},
   "source": [
    "- Rewrite the function using NumPy using broadcasting and vectorising."
   ]
  },
  {
   "cell_type": "code",
   "execution_count": 6,
   "metadata": {},
   "outputs": [],
   "source": [
    "import numpy as np\n",
    "\n",
    "def multiply_lists_with_numpy(list1, list2):\n",
    "    array1 = np.array(list1)\n",
    "    array2 = np.array(list2)\n",
    "    result = np.outer(array1, array2)\n",
    "    return result.flatten().tolist()\n"
   ]
  },
  {
   "cell_type": "markdown",
   "metadata": {},
   "source": [
    "- Time the two functions and comment on the improvements you observe in speed."
   ]
  },
  {
   "cell_type": "code",
   "execution_count": 7,
   "metadata": {},
   "outputs": [
    {
     "name": "stdout",
     "output_type": "stream",
     "text": [
      "Time taken with loops: 0.0 seconds\n",
      "Time taken with NumPy: 0.0 seconds\n"
     ]
    }
   ],
   "source": [
    "import time\n",
    "\n",
    "# Example lists\n",
    "list1 = [1, 2, 3]\n",
    "list2 = [4, 5, 6, 7]\n",
    "\n",
    "# Time the function with loops\n",
    "start_time = time.time()\n",
    "result_loops = multiply_lists_with_loops(list1, list2)\n",
    "end_time = time.time()\n",
    "print(f\"Time taken with loops: {end_time - start_time} seconds\")\n",
    "\n",
    "# Time the function with NumPy\n",
    "start_time = time.time()\n",
    "result_numpy = multiply_lists_with_numpy(list1, list2)\n",
    "end_time = time.time()\n",
    "print(f\"Time taken with NumPy: {end_time - start_time} seconds\")\n",
    "\n",
    "# Check if the results are the same\n",
    "assert result_loops == result_numpy\n"
   ]
  }
 ],
 "metadata": {
  "kernelspec": {
   "display_name": "block_b",
   "language": "python",
   "name": "python3"
  },
  "language_info": {
   "codemirror_mode": {
    "name": "ipython",
    "version": 3
   },
   "file_extension": ".py",
   "mimetype": "text/x-python",
   "name": "python",
   "nbconvert_exporter": "python",
   "pygments_lexer": "ipython3",
   "version": "3.8.16"
  }
 },
 "nbformat": 4,
 "nbformat_minor": 2
}
