import os

def list_files(directory):
    files = []
    for filename in os.listdir(directory):
        path = os.path.join(directory, filename)
        if os.path.isfile(path):
            files.append(filename)
    return files

def save_to_text_file(file_list, output_file):
    # Function to save a list of filenames to a text file
    with open(output_file, 'w') as file:
        for filename in file_list:
            file.write(f"{filename}\n")

def main():     
    file_list = list_files("Documents")  
    save_to_text_file(file_list, "Week1Day4_Numpy_Warmup_Dir_232725.txt")
if __name__ == "__main__":
    main()
