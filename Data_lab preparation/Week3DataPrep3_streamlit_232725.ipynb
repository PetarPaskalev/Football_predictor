{
 "cells": [
  {
   "cell_type": "code",
   "execution_count": 1,
   "metadata": {},
   "outputs": [
    {
     "name": "stderr",
     "output_type": "stream",
     "text": [
      "2023-12-17 23:23:24.866 \n",
      "  \u001b[33m\u001b[1mWarning:\u001b[0m to view this Streamlit app on a browser, run it with the following\n",
      "  command:\n",
      "\n",
      "    streamlit run c:\\Users\\35988\\anaconda3\\envs\\block_b\\lib\\site-packages\\ipykernel_launcher.py [ARGUMENTS]\n"
     ]
    }
   ],
   "source": [
    "import streamlit as st\n",
    "st.title('My First Streamlit App')\n",
    "st.write('Hello, Streamlit!')"
   ]
  },
  {
   "cell_type": "code",
   "execution_count": 17,
   "metadata": {},
   "outputs": [],
   "source": [
    "import streamlit as st\n",
    "\n",
    "st.title(\"Simple Calculator App\")\n",
    "\n",
    "num1 = st.number_input(\"Enter the first number:\")\n",
    "num2 = st.number_input(\"Enter the second number:\")\n",
    "\n",
    "operation = st.selectbox(\"Select operation:\", [\"Add\", \"Subtract\", \"Multiply\", \"Divide\"])\n",
    "\n",
    "result = None\n",
    "\n",
    "if operation == \"Add\":\n",
    "    result = num1 + num2\n",
    "elif operation == \"Subtract\":\n",
    "    result = num1 - num2\n",
    "elif operation == \"Multiply\":\n",
    "    result = num1 * num2\n",
    "elif operation == \"Divide\":\n",
    "    if num2 != 0:\n",
    "        result = num1 / num2\n",
    "    else:\n",
    "        st.warning(\"Error: Cannot divide by zero\")\n",
    "\n",
    "if result is not None:\n",
    "    st.success(f\"Result: {result}\")\n"
   ]
  }
 ],
 "metadata": {
  "kernelspec": {
   "display_name": "block_b",
   "language": "python",
   "name": "python3"
  },
  "language_info": {
   "codemirror_mode": {
    "name": "ipython",
    "version": 3
   },
   "file_extension": ".py",
   "mimetype": "text/x-python",
   "name": "python",
   "nbconvert_exporter": "python",
   "pygments_lexer": "ipython3",
   "version": "3.8.16"
  }
 },
 "nbformat": 4,
 "nbformat_minor": 2
}
