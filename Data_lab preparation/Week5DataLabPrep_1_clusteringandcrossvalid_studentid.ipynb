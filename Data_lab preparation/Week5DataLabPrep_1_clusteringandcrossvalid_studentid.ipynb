{
 "cells": [
  {
   "cell_type": "markdown",
   "metadata": {},
   "source": [
    "###  DATALAB PREP I clustering corss valid "
   ]
  },
  {
   "cell_type": "code",
   "execution_count": 13,
   "metadata": {},
   "outputs": [],
   "source": [
    "import pandas as pd\n",
    "from sklearn.model_selection import train_test_split\n",
    "from sklearn.linear_model import LinearRegression\n",
    "from sklearn.metrics import mean_squared_error\n",
    "from sklearn.preprocessing import LabelEncoder\n",
    "import numpy as np\n",
    "from sklearn.model_selection import train_test_split\n",
    "from sklearn.linear_model import LinearRegression\n",
    "from sklearn.metrics import mean_squared_error, r2_score\n",
    "from sklearn.neighbors import KNeighborsClassifier\n",
    "from sklearn.linear_model import LogisticRegression\n",
    "from sklearn.metrics import accuracy_score, confusion_matrix, classification_report\n",
    "from sklearn.cluster import KMeans\n",
    "from sklearn import datasets\n",
    "from sklearn.metrics import silhouette_score"
   ]
  },
  {
   "cell_type": "code",
   "execution_count": 12,
   "metadata": {},
   "outputs": [],
   "source": [
    "fb = pd.read_csv(\"football_data.csv\")"
   ]
  },
  {
   "cell_type": "code",
   "execution_count": 14,
   "metadata": {},
   "outputs": [
    {
     "name": "stdout",
     "output_type": "stream",
     "text": [
      "Accuracy for each fold:\n",
      "0.026666666666666665\n"
     ]
    },
    {
     "name": "stderr",
     "output_type": "stream",
     "text": [
      "c:\\Users\\35988\\anaconda3\\envs\\block_b\\lib\\site-packages\\sklearn\\linear_model\\_logistic.py:460: ConvergenceWarning: lbfgs failed to converge (status=1):\n",
      "STOP: TOTAL NO. of ITERATIONS REACHED LIMIT.\n",
      "\n",
      "Increase the number of iterations (max_iter) or scale the data as shown in:\n",
      "    https://scikit-learn.org/stable/modules/preprocessing.html\n",
      "Please also refer to the documentation for alternative solver options:\n",
      "    https://scikit-learn.org/stable/modules/linear_model.html#logistic-regression\n",
      "  n_iter_i = _check_optimize_result(\n"
     ]
    }
   ],
   "source": [
    "import numpy as np\n",
    "from sklearn import datasets\n",
    "from sklearn.model_selection import cross_val_score\n",
    "from sklearn.ensemble import RandomForestClassifier\n",
    "from sklearn.linear_model import LogisticRegression\n",
    "from sklearn.metrics import accuracy_score, confusion_matrix, classification_report\n",
    "\n",
    "# Load Iris Dataset\n",
    "iris = datasets.load_iris()\n",
    "X = iris.data\n",
    "y = iris.target\n",
    "\n",
    "# Initialize the classifier\n",
    "classifier = LogisticRegression(max_iter=100)\n",
    "\n",
    "# Perform cross-validation\n",
    "scores = cross_val_score(classifier,  X, y, scoring='neg_mean_absolute_error', cv=5)  # cv=5 for 5-fold cross-validation\n",
    "\n",
    "# Print the accuracy for each fold\n",
    "print(\"Accuracy for each fold:\")\n",
    "print(np.mean(np.absolute(scores)))"
   ]
  },
  {
   "cell_type": "markdown",
   "metadata": {},
   "source": [
    "### K mean Algorithms "
   ]
  },
  {
   "cell_type": "code",
   "execution_count": 15,
   "metadata": {},
   "outputs": [
    {
     "name": "stderr",
     "output_type": "stream",
     "text": [
      "c:\\Users\\35988\\anaconda3\\envs\\block_b\\lib\\site-packages\\sklearn\\cluster\\_kmeans.py:1416: FutureWarning: The default value of `n_init` will change from 10 to 'auto' in 1.4. Set the value of `n_init` explicitly to suppress the warning\n",
      "  super()._check_params_vs_input(X, default_n_init=10)\n"
     ]
    },
    {
     "name": "stdout",
     "output_type": "stream",
     "text": [
      "Silhouette Score for K-Means: 0.5528190123564095\n"
     ]
    },
    {
     "name": "stderr",
     "output_type": "stream",
     "text": [
      "c:\\Users\\35988\\anaconda3\\envs\\block_b\\lib\\site-packages\\sklearn\\cluster\\_kmeans.py:1440: UserWarning: KMeans is known to have a memory leak on Windows with MKL, when there are less chunks than available threads. You can avoid it by setting the environment variable OMP_NUM_THREADS=1.\n",
      "  warnings.warn(\n"
     ]
    }
   ],
   "source": [
    "import numpy as np\n",
    "from sklearn.cluster import KMeans\n",
    "from sklearn import datasets\n",
    "from sklearn.metrics import silhouette_score\n",
    "\n",
    "# Load Iris Dataset\n",
    "iris = datasets.load_iris()\n",
    "X = iris.data\n",
    "\n",
    "# Initialize the K-Means clustering algorithm\n",
    "kmeans = KMeans(n_clusters=3)  # Assuming 3 clusters for the Iris dataset\n",
    "\n",
    "# Fit the model\n",
    "kmeans.fit(X)\n",
    "\n",
    "# Access the labels assigned by K-Means\n",
    "kmeans_labels = kmeans.labels_\n",
    "\n",
    "# Evaluate the clustering using silhouette score\n",
    "silhouette_avg = silhouette_score(X, kmeans_labels)\n",
    "print(\"Silhouette Score for K-Means:\", silhouette_avg)"
   ]
  },
  {
   "cell_type": "markdown",
   "metadata": {},
   "source": [
    "### Hierarchical Clustering"
   ]
  },
  {
   "cell_type": "code",
   "execution_count": 16,
   "metadata": {},
   "outputs": [
    {
     "name": "stdout",
     "output_type": "stream",
     "text": [
      "Silhouette Score for Hierarchical Clustering: 0.5543236611296419\n"
     ]
    }
   ],
   "source": [
    "import numpy as np\n",
    "from sklearn.cluster import AgglomerativeClustering\n",
    "from sklearn import datasets\n",
    "from sklearn.metrics import silhouette_score\n",
    "iris = datasets.load_iris()\n",
    "X = iris.data\n",
    "\n",
    "# Initialize the Hierarchical clustering algorithm\n",
    "hierarchical = AgglomerativeClustering(n_clusters=3)\n",
    "\n",
    "# Fit the model\n",
    "hierarchical_labels = hierarchical.fit_predict(X)\n",
    "\n",
    "# Evaluate the clustering using silhouette score\n",
    "silhouette_avg = silhouette_score(X, hierarchical_labels)\n",
    "print(\"Silhouette Score for Hierarchical Clustering:\", silhouette_avg)"
   ]
  },
  {
   "cell_type": "markdown",
   "metadata": {},
   "source": [
    "### DBSCAN Clustering"
   ]
  },
  {
   "cell_type": "code",
   "execution_count": 17,
   "metadata": {},
   "outputs": [
    {
     "name": "stdout",
     "output_type": "stream",
     "text": [
      "Silhouette Score for DBSCAN: 0.4860341970345686\n"
     ]
    }
   ],
   "source": [
    "import numpy as np\n",
    "from sklearn.cluster import DBSCAN\n",
    "from sklearn import datasets\n",
    "from sklearn.metrics import silhouette_score\n",
    "\n",
    "# Load Iris Dataset\n",
    "iris = datasets.load_iris()\n",
    "X = iris.data\n",
    "\n",
    "# Initialize the DBSCAN clustering algorithm\n",
    "dbscan = DBSCAN(eps=0.5, min_samples=5)\n",
    "\n",
    "# Fit the model\n",
    "dbscan_labels = dbscan.fit_predict(X)\n",
    "\n",
    "# Evaluate the clustering using silhouette score\n",
    "silhouette_avg = silhouette_score(X, dbscan_labels)\n",
    "print(\"Silhouette Score for DBSCAN:\", silhouette_avg)"
   ]
  }
 ],
 "metadata": {
  "kernelspec": {
   "display_name": "block_b",
   "language": "python",
   "name": "python3"
  },
  "language_info": {
   "codemirror_mode": {
    "name": "ipython",
    "version": 3
   },
   "file_extension": ".py",
   "mimetype": "text/x-python",
   "name": "python",
   "nbconvert_exporter": "python",
   "pygments_lexer": "ipython3",
   "version": "3.8.16"
  }
 },
 "nbformat": 4,
 "nbformat_minor": 2
}
