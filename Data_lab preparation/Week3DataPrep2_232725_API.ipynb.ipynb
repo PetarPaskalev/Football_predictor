{
 "cells": [
  {
   "cell_type": "markdown",
   "metadata": {},
   "source": [
    "## Calling Your First API Using Python"
   ]
  },
  {
   "cell_type": "code",
   "execution_count": 1,
   "metadata": {},
   "outputs": [],
   "source": [
    "import numpy as py"
   ]
  },
  {
   "cell_type": "code",
   "execution_count": 2,
   "metadata": {},
   "outputs": [
    {
     "data": {
      "text/plain": [
       "<Response [200]>"
      ]
     },
     "execution_count": 2,
     "metadata": {},
     "output_type": "execute_result"
    }
   ],
   "source": [
    ">>> import requests\n",
    ">>> requests.get(\"https://randomuser.me/api/\")\n"
   ]
  },
  {
   "cell_type": "code",
   "execution_count": 3,
   "metadata": {},
   "outputs": [
    {
     "data": {
      "text/plain": [
       "'{\"results\":[{\"gender\":\"male\",\"name\":{\"title\":\"Monsieur\",\"first\":\"Miro\",\"last\":\"Rey\"},\"location\":{\"street\":{\"number\":3699,\"name\":\"Place Paul-Duquaire\"},\"city\":\"Damphreux\",\"state\":\"Graubünden\",\"country\":\"Switzerland\",\"postcode\":4026,\"coordinates\":{\"latitude\":\"-56.6848\",\"longitude\":\"-75.4366\"},\"timezone\":{\"offset\":\"-9:00\",\"description\":\"Alaska\"}},\"email\":\"miro.rey@example.com\",\"login\":{\"uuid\":\"bd154354-0155-4318-aa7e-305d5590538c\",\"username\":\"lazytiger313\",\"password\":\"mustang\",\"salt\":\"agwunfI6\",\"md5\":\"cc8da67d57da6b20a49050b2404417c1\",\"sha1\":\"299a98ccd859fc4a87b20743de34f2f97e299f21\",\"sha256\":\"46e938862172eee4a02b2c092bbc3c884bb62ab42284d12a98e597859ffb83e5\"},\"dob\":{\"date\":\"1945-11-30T13:19:44.919Z\",\"age\":78},\"registered\":{\"date\":\"2008-08-06T03:30:04.325Z\",\"age\":15},\"phone\":\"076 503 25 71\",\"cell\":\"078 619 34 07\",\"id\":{\"name\":\"AVS\",\"value\":\"756.9157.2546.98\"},\"picture\":{\"large\":\"https://randomuser.me/api/portraits/men/83.jpg\",\"medium\":\"https://randomuser.me/api/portraits/med/men/83.jpg\",\"thumbnail\":\"https://randomuser.me/api/portraits/thumb/men/83.jpg\"},\"nat\":\"CH\"}],\"info\":{\"seed\":\"67bb2dcd5ccc1e31\",\"results\":1,\"page\":1,\"version\":\"1.4\"}}'"
      ]
     },
     "execution_count": 3,
     "metadata": {},
     "output_type": "execute_result"
    }
   ],
   "source": [
    ">>> import requests\n",
    ">>> response = requests.get(\"https://randomuser.me/api/\")\n",
    ">>> response.text"
   ]
  },
  {
   "cell_type": "code",
   "execution_count": 4,
   "metadata": {},
   "outputs": [
    {
     "data": {
      "text/plain": [
       "'{\"message\":\"The Cat API\",\"version\":\"1.3.6\"}'"
      ]
     },
     "execution_count": 4,
     "metadata": {},
     "output_type": "execute_result"
    }
   ],
   "source": [
    ">>> import requests\n",
    ">>> response = requests.get(\"https://api.thecatapi.com/\")\n",
    ">>> response.text"
   ]
  }
 ],
 "metadata": {
  "kernelspec": {
   "display_name": "block_b",
   "language": "python",
   "name": "python3"
  },
  "language_info": {
   "codemirror_mode": {
    "name": "ipython",
    "version": 3
   },
   "file_extension": ".py",
   "mimetype": "text/x-python",
   "name": "python",
   "nbconvert_exporter": "python",
   "pygments_lexer": "ipython3",
   "version": "3.8.16"
  }
 },
 "nbformat": 4,
 "nbformat_minor": 2
}
