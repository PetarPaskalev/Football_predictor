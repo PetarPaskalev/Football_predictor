{
 "cells": [
  {
   "cell_type": "code",
   "execution_count": 1,
   "metadata": {},
   "outputs": [
    {
     "name": "stdout",
     "output_type": "stream",
     "text": [
      "Property 1: True\n",
      "Property 2: True\n",
      "Property 3: False\n",
      "Property 4: True\n",
      "Property 5: True\n",
      "Property 6: True\n",
      "Property 7: True\n",
      "Property 8: True\n",
      "Property 9: False\n",
      "Property 10: False\n",
      "Property 11: True\n",
      "Property 12: True\n",
      "Property 13: True\n"
     ]
    }
   ],
   "source": [
    "import numpy as np\n",
    "\n",
    "# Define matrices A, B, and C\n",
    "A = np.array([[3, 2, -1], [-2, 7, 4], [1, 6, 8]])\n",
    "B = np.array([[-1, 2, 3], [5, -4, 9], [-7, 8, 6]])\n",
    "C = np.array([[-5, 4, 9], [6, 1, 3], [7, 2, -8]])\n",
    "\n",
    "# Verify (A^T)^T = A\n",
    "property1 = np.all((A.T).T == A)\n",
    "print(\"Property 1:\", property1)\n",
    "\n",
    "# Verify A + B = B + A\n",
    "property2 = np.all(A + B == B + A)\n",
    "print(\"Property 2:\", property2)\n",
    "\n",
    "# Verify A + (B + C)(A + B) + C\n",
    "property3 = np.all(A + (B + C).dot(A + B) + C == A + B + C)\n",
    "print(\"Property 3:\", property3)\n",
    "\n",
    "# Verify (A + B) = A^T + B^T\n",
    "property4 = np.all((A + B).T == A.T + B.T)\n",
    "print(\"Property 4:\", property4)\n",
    "\n",
    "# Verify AB ≠ BA\n",
    "property5 = not np.all(A.dot(B) == B.dot(A))\n",
    "print(\"Property 5:\", property5)\n",
    "\n",
    "# Verify A(BC) = (AB)C\n",
    "property6 = np.all(A.dot(B.dot(C)) == (A.dot(B)).dot(C))\n",
    "print(\"Property 6:\", property6)\n",
    "\n",
    "# Verify A(B + C) = AB + AC\n",
    "property7 = np.all(A.dot(B + C) == A.dot(B) + A.dot(C))\n",
    "print(\"Property 7:\", property7)\n",
    "\n",
    "# Verify (AB)^T = B^T A^T\n",
    "property8 = np.all((A.dot(B)).T == B.T.dot(A.T))\n",
    "print(\"Property 8:\", property8)\n",
    "\n",
    "# Verify (AB)^-1 = B^-1 A^-1\n",
    "property9 = np.all(np.linalg.inv(A.dot(B)) == np.linalg.inv(B).dot(np.linalg.inv(A)))\n",
    "print(\"Property 9:\", property9)\n",
    "\n",
    "# Verify (A^T)^-1 = (A^-1)^T\n",
    "property10 = np.all(np.linalg.inv(A.T) == np.linalg.inv(A).T)\n",
    "print(\"Property 10:\", property10)\n",
    "\n",
    "# Verify (a + beta)A = aA + betaA\n",
    "a, beta = 2, 3\n",
    "property11 = np.all((a + beta) * A == a * A + beta * A)\n",
    "print(\"Property 11:\", property11)\n",
    "\n",
    "# Verify a(A + B) = aA + aB\n",
    "a = 5\n",
    "property12 = np.all(a * (A + B) == a * A + a * B)\n",
    "print(\"Property 12:\", property12)\n",
    "\n",
    "# Verify (αA)^-1 = α^-1 A^-1\n",
    "alpha = 4\n",
    "property13 = np.all(np.linalg.inv(alpha * A) == (1/alpha) * np.linalg.inv(A))\n",
    "print(\"Property 13:\", property13)\n"
   ]
  }
 ],
 "metadata": {
  "kernelspec": {
   "display_name": "block_b",
   "language": "python",
   "name": "python3"
  },
  "language_info": {
   "codemirror_mode": {
    "name": "ipython",
    "version": 3
   },
   "file_extension": ".py",
   "mimetype": "text/x-python",
   "name": "python",
   "nbconvert_exporter": "python",
   "pygments_lexer": "ipython3",
   "version": "3.8.16"
  }
 },
 "nbformat": 4,
 "nbformat_minor": 2
}
