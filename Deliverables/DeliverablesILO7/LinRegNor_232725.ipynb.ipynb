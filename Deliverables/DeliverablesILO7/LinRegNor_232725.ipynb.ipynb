{
 "cells": [
  {
   "cell_type": "markdown",
   "metadata": {},
   "source": [
    "# Tasks using numpy"
   ]
  },
  {
   "cell_type": "markdown",
   "metadata": {},
   "source": [
    " Task 1 Solve the following systems of equations using Numpy.\n",
    "\n"
   ]
  },
  {
   "cell_type": "code",
   "execution_count": 2,
   "metadata": {},
   "outputs": [],
   "source": [
    "import numpy as np "
   ]
  },
  {
   "cell_type": "code",
   "execution_count": 8,
   "metadata": {},
   "outputs": [
    {
     "name": "stdout",
     "output_type": "stream",
     "text": [
      "[[-1.5   0.25  9.75]] is the solution for the first equation and [[ 6.8372093  -1.72093023  2.1627907  -0.72093023]] is the solution for the second equation\n"
     ]
    }
   ],
   "source": [
    "\n",
    "A = np.array([[1, 3, 1], [0, 1, 1], [1, -1, 1]])\n",
    "B = np.array([[9],[10],[8]])\n",
    "x = np.linalg.inv(A).dot(B)\n",
    "h = np.array([[5, 6, -7, 1], [1, 2, 3, 4], [1, 0, 1, 0],[1, -3, 0, 0]])\n",
    "y = np.array([[8],[7],[9],[12]])\n",
    "j = np.linalg.inv(h).dot(y)\n",
    "print(f\"{x.T} is the solution for the first equation and {j.T} is the solution for the second equation\")"
   ]
  },
  {
   "cell_type": "markdown",
   "metadata": {},
   "source": [
    "Task 2\n",
    "Use the following snippet of code to generate data for x and y:"
   ]
  },
  {
   "cell_type": "code",
   "execution_count": 1,
   "metadata": {},
   "outputs": [
    {
     "name": "stdout",
     "output_type": "stream",
     "text": [
      "Estimated coefficients:\n",
      "theta_0: 3.0682713191687556\n",
      "theta_1: 1.9846770277234351\n"
     ]
    }
   ],
   "source": [
    "import numpy as np\n",
    "from numpy.linalg import inv\n",
    "\n",
    "# Given data\n",
    "np.random.seed(1358)\n",
    "n_sample = 10\n",
    "x = np.linspace(1, 5, n_sample)\n",
    "e = 0.1 * np.random.randn(n_sample)\n",
    "y = 2 * x + 3 + e\n",
    "\n",
    "# Create the design matrix X\n",
    "X_0 = np.ones((n_sample, 1))  # Column of ones for the intercept\n",
    "X_1 = np.expand_dims(x, axis=1)  # Reshape x to a column vector\n",
    "X = np.concatenate((X_0, X_1), axis=1)  # Concatenate columns to form X\n",
    "\n",
    "\n",
    "Y = np.expand_dims(y, axis=1)\n",
    "\n",
    "theta = inv(X.T @ X) @ X.T @ Y\n",
    "\n",
    "theta_0 = theta[0, 0]\n",
    "theta_1 = theta[1, 0]\n",
    "\n",
    "# Display the results\n",
    "print(\"Estimated coefficients:\")\n",
    "print(\"theta_0:\", theta_0)\n",
    "print(\"theta_1:\", theta_1)"
   ]
  },
  {
   "cell_type": "markdown",
   "metadata": {},
   "source": [
    "Task 3 Use the following snippet of code to generate data x for y\n",
    " and :"
   ]
  },
  {
   "cell_type": "code",
   "execution_count": 2,
   "metadata": {},
   "outputs": [
    {
     "name": "stdout",
     "output_type": "stream",
     "text": [
      "Coefficient 00 (intercept): 3.0806994863321515\n",
      "Coefficient 01 (x): 1.9952789500456936\n",
      "Coefficient 02 (x^2): 6.998729204523522\n"
     ]
    }
   ],
   "source": [
    "import numpy as np\n",
    "\n",
    "np.random.seed(1358)\n",
    "\n",
    "n_sample = 30\n",
    "x = np.linspace(1, 10, n_sample)\n",
    "e = 0.2 * np.random.randn(n_sample)\n",
    "\n",
    "y = 3 + 2 * x + 7 * x**2 + e\n",
    "\n",
    "# Create a column of ones\n",
    "ones_column = np.ones_like(x)\n",
    "\n",
    "# Concatenate the columns of ones, x, and x^2\n",
    "X = np.concatenate([np.expand_dims(ones_column, axis=1), np.expand_dims(x, axis=1), np.expand_dims(x**2, axis=1)], axis=1)\n",
    "\n",
    "# Perform linear regression\n",
    "coefficients, _, _, _ = np.linalg.lstsq(X, y, rcond=None)\n",
    "\n",
    "# Extract the coefficients\n",
    "c0, c1, c2 = coefficients\n",
    "\n",
    "print(\"Coefficient 00 (intercept):\", c0)\n",
    "print(\"Coefficient 01 (x):\", c1)\n",
    "print(\"Coefficient 02 (x^2):\", c2)\n",
    "\n",
    "\n"
   ]
  }
 ],
 "metadata": {
  "kernelspec": {
   "display_name": "block_b",
   "language": "python",
   "name": "python3"
  },
  "language_info": {
   "codemirror_mode": {
    "name": "ipython",
    "version": 3
   },
   "file_extension": ".py",
   "mimetype": "text/x-python",
   "name": "python",
   "nbconvert_exporter": "python",
   "pygments_lexer": "ipython3",
   "version": "3.8.16"
  }
 },
 "nbformat": 4,
 "nbformat_minor": 2
}
